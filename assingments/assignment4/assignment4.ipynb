{
 "cells": [
  {
   "attachments": {},
   "cell_type": "markdown",
   "metadata": {},
   "source": [
    "# Assignment 4"
   ]
  },
  {
   "attachments": {},
   "cell_type": "markdown",
   "metadata": {},
   "source": [
    "## Try to submit as an HTML file"
   ]
  },
  {
   "attachments": {},
   "cell_type": "markdown",
   "metadata": {},
   "source": [
    "<font size = \"5\">\n",
    "Print your Emory ID below"
   ]
  },
  {
   "cell_type": "code",
   "execution_count": null,
   "metadata": {},
   "outputs": [],
   "source": [
    "# Write down your answer here:\n",
    "2482777"
   ]
  },
  {
   "attachments": {},
   "cell_type": "markdown",
   "metadata": {},
   "source": [
    "<font size = \"5\">\n",
    "\n",
    "Import the numpy, matplotlib, and pandas packages"
   ]
  },
  {
   "cell_type": "code",
   "execution_count": 6,
   "metadata": {},
   "outputs": [],
   "source": [
    "# Write down your answer here:\n",
    "import numpy as np\n",
    "import matplotlib.pyplot as plt\n",
    "import pandas as pd"
   ]
  },
  {
   "attachments": {},
   "cell_type": "markdown",
   "metadata": {},
   "source": [
    "<font size = \"5\">\n",
    "\n",
    "(a) Create a sequence \n",
    "\n",
    "- Create a value $n = 42$\n",
    "- Create a list with the values $0,1,\\ldots, n$\n",
    "- Count the length of the list"
   ]
  },
  {
   "cell_type": "code",
   "execution_count": 1,
   "metadata": {},
   "outputs": [
    {
     "name": "stdout",
     "output_type": "stream",
     "text": [
      "43\n"
     ]
    }
   ],
   "source": [
    "# Write your own code\n",
    "n = 42\n",
    "sequence = list(range(n+1))\n",
    "listlen = len(sequence)\n",
    "\n",
    "print(listlen)"
   ]
  },
  {
   "attachments": {},
   "cell_type": "markdown",
   "metadata": {},
   "source": [
    "<font size = \"5\">\n",
    "\n",
    "(b) Counting True/False statements in a list\n",
    "\n",
    "- Create\n",
    "list_age = [58, 23, 63, 18, 76, 35, 48, 68]\n",
    "- Create an empty list \"list_eligible_retire\"\n",
    "- Use a for-loop without numbering\n",
    "    - Determine whether the age is $\\ge 65$\n",
    "    - Store the True/False result in \"list_eligible_retire\"\n",
    "- Use \"np.sum()\" to count how many workers are eligible for retirement\n",
    "\n",
    "Hint: Use the \"append\" function."
   ]
  },
  {
   "cell_type": "code",
   "execution_count": 4,
   "metadata": {},
   "outputs": [
    {
     "name": "stdout",
     "output_type": "stream",
     "text": [
      "2\n"
     ]
    }
   ],
   "source": [
    "# Write your own code\n",
    "list_age = [58,23,63,18,76,35,48,68]\n",
    "list_eligible_retire = []\n",
    "for i in list_age:\n",
    "    list_eligible_retire.append(i>=65)\n",
    "\n",
    "eligibleNum = np.sum(list_eligible_retire)\n",
    "\n",
    "print(eligibleNum)"
   ]
  },
  {
   "attachments": {},
   "cell_type": "markdown",
   "metadata": {},
   "source": [
    "<font size = \"5\">\n",
    "\n",
    "(c) Graphs from multiple datasets\n",
    "\n",
    "- Create a list with the two \"DF Open\" datasets for 2022, and 2023\n",
    "- Run a for-loop over each dataset \n",
    "    - Compute a histogram of \"overallScore\" for each year\n",
    "    - Label the title with the name of the dataset\n",
    "\n",
    "Note: the dataset showcases the data from the 2022 and 2023 crossfit games"
   ]
  },
  {
   "cell_type": "code",
   "execution_count": 14,
   "metadata": {},
   "outputs": [
    {
     "data": {
      "image/png": "[encoded data removed]",
      "text/plain": [
       "<Figure size 432x288 with 1 Axes>"
      ]
     },
     "metadata": {
      "needs_background": "light"
     },
     "output_type": "display_data"
    },
    {
     "data": {
      "image/png": "[encoded data removed]",
      "text/plain": [
       "<Figure size 432x288 with 1 Axes>"
      ]
     },
     "metadata": {
      "needs_background": "light"
     },
     "output_type": "display_data"
    }
   ],
   "source": [
    "# Note \"overallScore\" is the final score each candidate achieved\n",
    "\n",
    "# Hint: Before you write the loop, test your code out by opening an individual dataset\n",
    "# Once you're sure the code works and you're familiar with the data, run the loop\n",
    "df_2022 = pd.read_csv(\"data/df_open_2022.csv\")\n",
    "df_2023 = pd.read_csv(\"data/df_open_2023.csv\")\n",
    "dataset = [df_2022, df_2023]\n",
    "\n",
    "for i in dataset:\n",
    "    plt.hist(i[\"overallScore\"])\n",
    "    plt.title(\"Hist of overall score \" + str(i['year'].iloc[0]))\n",
    "    plt.xlabel(\"overall score\")\n",
    "    plt.ylabel(\"frequency\")\n",
    "    plt.show()\n",
    "    "
   ]
  },
  {
   "cell_type": "markdown",
   "metadata": {},
   "source": [
    "<font size = \"5\">\n",
    "\n",
    "For questions (d) and (e), use the following table:\n",
    "\n",
    "<img src=\"figures/grade_scale.png\" alt=\"500\" width=\"200\"/>\n",
    "\n",
    "(d) Loops with multiple lists\n",
    "\n",
    "<font size =\"3\">\n",
    "- Create three lists\n",
    "\n",
    "list_lower = [93, 90, 87, 83, 80, 77, 73, 70, 67, 63, 60, 0]\n",
    "\n",
    "list_upper = [100, 92, 89, 86, 82, 79, 76, 72, 69, 66, 62, 59]\n",
    "\n",
    "list_letters = [\"A\",\"A-\",\"B+\",\"B\",\"B-\",\"C+\",\"C\",\"C-\",\"D+\",\"D\",\"D-\",\"F\"]\n",
    "\n",
    "- Create a for loop that prints the message:\n",
    "\n",
    "\"If a students gets a grade between .... and ..., their letter grade is ...\""
   ]
  },
  {
   "cell_type": "code",
   "execution_count": 15,
   "metadata": {},
   "outputs": [
    {
     "name": "stdout",
     "output_type": "stream",
     "text": [
      "if a student gets a grade between 93 and 100 their letter grade is A\n",
      "if a student gets a grade between 90 and 92 their letter grade is A-\n",
      "if a student gets a grade between 87 and 89 their letter grade is B+\n",
      "if a student gets a grade between 83 and 86 their letter grade is B\n",
      "if a student gets a grade between 80 and 82 their letter grade is B-\n",
      "if a student gets a grade between 77 and 79 their letter grade is C+\n",
      "if a student gets a grade between 73 and 76 their letter grade is C\n",
      "if a student gets a grade between 70 and 72 their letter grade is C-\n",
      "if a student gets a grade between 67 and 69 their letter grade is D+\n",
      "if a student gets a grade between 63 and 66 their letter grade is D\n",
      "if a student gets a grade between 60 and 62 their letter grade is D-\n",
      "if a student gets a grade between 0 and 59 their letter grade is F\n"
     ]
    }
   ],
   "source": [
    "# Hint: Use a for-loop with numbering \n",
    "# Start the index at zero\n",
    "# In the body of the loop, extract the elements in each list by the index position\n",
    "list_lower = [93, 90, 87, 83, 80, 77, 73, 70, 67, 63, 60, 0]\n",
    "\n",
    "list_upper = [100, 92, 89, 86, 82, 79, 76, 72, 69, 66, 62, 59]\n",
    "\n",
    "list_letters = [\"A\",\"A-\",\"B+\",\"B\",\"B-\",\"C+\",\"C\",\"C-\",\"D+\",\"D\",\"D-\",\"F\"]\n",
    "\n",
    "for i in range(len(list_lower)):\n",
    "    print(\"if a student gets a grade between\", list_lower[i], \"and\", list_upper[i],\"their letter grade is\", list_letters[i])"
   ]
  },
  {
   "attachments": {},
   "cell_type": "markdown",
   "metadata": {},
   "source": [
    "<font size = \"5\" >\n",
    "\n",
    "(e) Classification with double loops\n",
    "\n",
    "<font size =\"3\">\n",
    "\n",
    "- Suppose that 7 students get the following grades:\n",
    "\n",
    "list_studentgrades = [84, 62, 92, 74, 97, 80, 79]\n",
    "\n",
    "- Print the following message:\n",
    "\n",
    "\"The student got a numeric grade of .... and their letter grade was ...\"\n"
   ]
  },
  {
   "cell_type": "code",
   "execution_count": 19,
   "metadata": {},
   "outputs": [
    {
     "name": "stdout",
     "output_type": "stream",
     "text": [
      " the student got a numeric grade of 84 and their letter grade was B\n",
      " the student got a numeric grade of 62 and their letter grade was D-\n",
      " the student got a numeric grade of 92 and their letter grade was A-\n",
      " the student got a numeric grade of 74 and their letter grade was C\n",
      " the student got a numeric grade of 97 and their letter grade was A\n",
      " the student got a numeric grade of 80 and their letter grade was B-\n",
      " the student got a numeric grade of 79 and their letter grade was C+\n"
     ]
    }
   ],
   "source": [
    "#(a) Hint: Use a double for loop structure:\n",
    "#---- for studentgrade in list_studentgrades:\n",
    "#----     index = 0\n",
    "#----     for letter in list_letters:\n",
    "#----          Body\n",
    "#----          index = index + 1\n",
    "\n",
    "# (b) Inside the body, use an if/else statement to print the correct letter grade.\n",
    "# You can make your code more concise by doing similar steps to question (d).\n",
    "list_student_grades = [84, 62, 92, 74, 97, 80, 79]\n",
    "\n",
    "for i in list_student_grades:\n",
    "    hold = 0\n",
    "    for j in list_letters:\n",
    "        low = list_lower[hold]\n",
    "        high = list_upper[hold]\n",
    "        if(low<= i<= high):\n",
    "\n",
    "            print(\" the student got a numeric grade of\", i, \"and their letter grade was\", j)\n",
    "        hold += 1\n",
    "\n"
   ]
  }
 ],
 "metadata": {
  "kernelspec": {
   "display_name": "Python 3.10.4 64-bit",
   "language": "python",
   "name": "python3"
  },
  "language_info": {
   "codemirror_mode": {
    "name": "ipython",
    "version": 3
   },
   "file_extension": ".py",
   "mimetype": "text/x-python",
   "name": "python",
   "nbconvert_exporter": "python",
   "pygments_lexer": "ipython3",
   "version": "3.10.4"
  },
  "orig_nbformat": 4,
  "vscode": {
   "interpreter": {
    "hash": "aee8b7b246df8f9039afb4144a1f6fd8d2ca17a180786b69acc140d282b71a49"
   }
  }
 },
 "nbformat": 4,
 "nbformat_minor": 2
}
